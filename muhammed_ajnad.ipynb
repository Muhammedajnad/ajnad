{
  "nbformat": 4,
  "nbformat_minor": 0,
  "metadata": {
    "colab": {
      "provenance": []
    },
    "kernelspec": {
      "name": "python3",
      "display_name": "Python 3"
    },
    "language_info": {
      "name": "python"
    }
  },
  "cells": [
    {
      "cell_type": "code",
      "execution_count": null,
      "metadata": {
        "id": "a7hNdIrkI6wE"
      },
      "outputs": [],
      "source": [
        "'''1.Write a Python function to accept a string value from the user and display the\n",
        "count of each character in that string. Sample input: Enter a string value:\n",
        "assembly Sample output: a=1, s=2, e=1, m=1, b=1, l=1, y=1'''"
      ]
    },
    {
      "cell_type": "code",
      "source": [
        "string = input(\"Enter a string: \")\n",
        "lst1 = []\n",
        "for char in string:\n",
        "    if char not in lst1:\n",
        "        lst1.append(char)\n",
        "for item in lst1:\n",
        "    print(item,string.count(item), sep = \"=\")"
      ],
      "metadata": {
        "colab": {
          "base_uri": "https://localhost:8080/"
        },
        "id": "6bZoWdnAVOGk",
        "outputId": "4de7c1fc-1f61-4715-b943-6ebe9980f0e2"
      },
      "execution_count": null,
      "outputs": [
        {
          "output_type": "stream",
          "name": "stdout",
          "text": [
            "Enter a string: ajnad\n",
            "a=2\n",
            "j=1\n",
            "n=1\n",
            "d=1\n"
          ]
        }
      ]
    },
    {
      "cell_type": "code",
      "source": [
        "'''2.Write a Python function to find the maximum of three numbers Sample input:\n",
        "34,12,7 Sample output: 34 '''"
      ],
      "metadata": {
        "id": "pKGDorKqNd9K"
      },
      "execution_count": null,
      "outputs": []
    },
    {
      "cell_type": "code",
      "source": [
        "def maximum(a,b,c):\n",
        "    list = [12,23,34]\n",
        "    return max(list)\n",
        "a = 12\n",
        "b = 23\n",
        "c = 34\n",
        "print(maximum(12,23,34))"
      ],
      "metadata": {
        "colab": {
          "base_uri": "https://localhost:8080/"
        },
        "id": "L5JXDbGPWZL3",
        "outputId": "546a3235-b5a9-4a02-cfe4-6eeb8b1fb368"
      },
      "execution_count": null,
      "outputs": [
        {
          "output_type": "stream",
          "name": "stdout",
          "text": [
            "34\n"
          ]
        }
      ]
    },
    {
      "cell_type": "code",
      "source": [
        "'''3.Write a Python function called exponent(base,exp) that returns an integer\n",
        "value of base raises to the power of exp. Sample input: Enter the base: 2\n",
        "Enter the exponent: 3 Sample output: 8'''"
      ],
      "metadata": {
        "id": "XPQZcNEhOlEq"
      },
      "execution_count": null,
      "outputs": []
    },
    {
      "cell_type": "code",
      "source": [
        "def exponent(num1,num2):\n",
        "  print(num1**num2)\n",
        "num1=int(input(\"enter the base: \"))\n",
        "num2=int(input(\"enter the exponent: \"))\n",
        "exponent(num1,num2)\n"
      ],
      "metadata": {
        "colab": {
          "base_uri": "https://localhost:8080/"
        },
        "id": "QN4VBjmtWY3F",
        "outputId": "29b6f4bc-e85f-4496-f00b-0ac80835cf06"
      },
      "execution_count": null,
      "outputs": [
        {
          "output_type": "stream",
          "name": "stdout",
          "text": [
            "enter the base: 2\n",
            "enter the exponent: 3\n",
            "8\n"
          ]
        }
      ]
    },
    {
      "cell_type": "code",
      "source": [
        "'''4.Write a Python function that takes a positive integer and returns the sum of\n",
        "the cube of all the positive integers smaller than the specified number.\n",
        "Sample input: 4 Sample output: 36 '''"
      ],
      "metadata": {
        "id": "JuFLhPLaOngu"
      },
      "execution_count": null,
      "outputs": []
    },
    {
      "cell_type": "code",
      "source": [
        "def cube(n):\n",
        "  count=0\n",
        "  for i in range(1,n):\n",
        "    count +=i**3\n",
        "  return count\n",
        "\n",
        "n=int(input('Enter a positive integer: '))\n",
        "print('output = ',cube(n))\n"
      ],
      "metadata": {
        "colab": {
          "base_uri": "https://localhost:8080/"
        },
        "id": "p1ndeTcVWZxE",
        "outputId": "76b7639c-86e7-4595-b35d-c73faace9e59"
      },
      "execution_count": null,
      "outputs": [
        {
          "output_type": "stream",
          "name": "stdout",
          "text": [
            "Enter a positive integer: 5\n",
            "output =  100\n"
          ]
        }
      ]
    },
    {
      "cell_type": "code",
      "source": [
        "'''5.Write a Python program which iterates from 1 to 10. For multiples of 2, print\n",
        "“Fizz” instead of the number and for the multiples of 5, print “Buzz”. For\n",
        "numbers which are multiples of both 2 and 5, print “FizzBuzz”. Sample input:\n",
        "numbers from 1 to 10 Sample output: 1 Fizz 3 Fizz Buzz Fizz 7 Fizz 9\n",
        "FizzBuzz'''"
      ],
      "metadata": {
        "id": "osfPPfsqOvtS"
      },
      "execution_count": null,
      "outputs": []
    },
    {
      "cell_type": "code",
      "source": [
        "def function(i):\n",
        "  count=0\n",
        "for i in range(1, 11):\n",
        "    if i%2==0 and i%5==0:\n",
        "        print('FizzBuzz')\n",
        "    elif i%2==0:\n",
        "        print('Fizz')\n",
        "    elif i%5==0:\n",
        "        print('Buzz')\n",
        "    else:\n",
        "        print(i)\n"
      ],
      "metadata": {
        "colab": {
          "base_uri": "https://localhost:8080/"
        },
        "id": "1PTLmFXXWbeE",
        "outputId": "f78eb5eb-3ac0-497d-deee-88c9c9a93a0d"
      },
      "execution_count": null,
      "outputs": [
        {
          "output_type": "stream",
          "name": "stdout",
          "text": [
            "1\n",
            "Fizz\n",
            "3\n",
            "Fizz\n",
            "Buzz\n",
            "Fizz\n",
            "7\n",
            "Fizz\n",
            "9\n",
            "FizzBuzz\n"
          ]
        }
      ]
    },
    {
      "cell_type": "code",
      "source": [
        "'''6.Write a Python function to find the most frequent item in a list of numbers.\n",
        "Sample input: 2, 3, 4, 2, 5, 2 Sample output: 2 '''"
      ],
      "metadata": {
        "colab": {
          "base_uri": "https://localhost:8080/",
          "height": 35
        },
        "id": "-7WqtSADO3ti",
        "outputId": "48ac9690-a92c-40ac-8dd6-53a55716af0b"
      },
      "execution_count": null,
      "outputs": [
        {
          "output_type": "execute_result",
          "data": {
            "text/plain": [
              "'6.Write a Python function to find the most frequent item in a list of numbers.\\nSample input: 2, 3, 4, 2, 5, 2 Sample output: 2 '"
            ],
            "application/vnd.google.colaboratory.intrinsic+json": {
              "type": "string"
            }
          },
          "metadata": {},
          "execution_count": 42
        }
      ]
    },
    {
      "cell_type": "code",
      "source": [
        "s = 0\n",
        "l1 = [2,1,3,1]\n",
        "for n in l1:\n",
        "  s = s+n*n\n",
        "  print(s)"
      ],
      "metadata": {
        "colab": {
          "base_uri": "https://localhost:8080/"
        },
        "id": "QCIM8NaGWb5H",
        "outputId": "decd6be4-01c1-4526-b76f-053cd4e8cbb9"
      },
      "execution_count": null,
      "outputs": [
        {
          "output_type": "stream",
          "name": "stdout",
          "text": [
            "4\n",
            "5\n",
            "14\n",
            "15\n"
          ]
        }
      ]
    },
    {
      "cell_type": "code",
      "source": [
        "\n",
        "'''7.Write a Python function to find the sum of squares of the numbers in a list.\n",
        "Sample input: 2,1,3,1 Sample output: 15 '''"
      ],
      "metadata": {
        "id": "gTdd2vuxUpij"
      },
      "execution_count": null,
      "outputs": []
    },
    {
      "cell_type": "code",
      "source": [
        "def sum_of_squares(numbers):\n",
        "  sum_of_squares = 0\n",
        "  for number in numbers:\n",
        "    sum_of_squares += number * number\n",
        "  return sum_of_squares\n",
        "numbers = [2, 1, 3, 1]\n",
        "result = sum_of_squares(numbers)\n",
        "print(f\"The sum of squares of the numbers in the list is: {result}\")"
      ],
      "metadata": {
        "colab": {
          "base_uri": "https://localhost:8080/"
        },
        "id": "tPZIGaEVWcZG",
        "outputId": "e0dd2072-ed40-4002-a448-1385adf49334"
      },
      "execution_count": null,
      "outputs": [
        {
          "output_type": "stream",
          "name": "stdout",
          "text": [
            "The sum of squares of the numbers in the list is: 15\n"
          ]
        }
      ]
    },
    {
      "cell_type": "code",
      "source": [
        "'''8.Write a Python program using for loop that will iterate from 1 to 15. For each\n",
        "iteration, check if the current number is odd or even, and display the message\n",
        "to the screen as odd or even. Sample input: 1….15 Sample output: 1-odd 2-\n",
        "even …. 15-odd '''"
      ],
      "metadata": {
        "id": "wQ1KqxavUsCr"
      },
      "execution_count": null,
      "outputs": []
    },
    {
      "cell_type": "code",
      "source": [
        "l1= [1,2,3,4,5,6,7,8,9,10,11,12,13,14,15]\n",
        "even=[]\n",
        "odd=[]\n",
        "while len(l1)>0:\n",
        "  l=l1.pop()\n",
        "  if l%2==0:\n",
        "    even.append(l)\n",
        "  else:\n",
        "      odd.append(l)\n",
        "print(even)\n",
        "print(odd)"
      ],
      "metadata": {
        "colab": {
          "base_uri": "https://localhost:8080/"
        },
        "id": "4NpG0OZB2dxg",
        "outputId": "b056720a-2977-4c27-b589-2d32a75d89fc"
      },
      "execution_count": null,
      "outputs": [
        {
          "output_type": "stream",
          "name": "stdout",
          "text": [
            "[14, 12, 10, 8, 6, 4, 2]\n",
            "[15, 13, 11, 9, 7, 5, 3, 1]\n"
          ]
        }
      ]
    },
    {
      "cell_type": "code",
      "source": [
        "'''9.Write a Python function to convert temperatures to and from Celsius\n",
        "Fahrenheit. [Formula: c/5=f-32/9 where c=temperature in Celsius and f=\n",
        "temperature in Fahrenheit.] Sample input: Temperature in Fahrenheit =41\n",
        "Sample output: Temperature in Celsius =5 '''"
      ],
      "metadata": {
        "id": "E1QDHuFCU0m7"
      },
      "execution_count": null,
      "outputs": []
    },
    {
      "cell_type": "code",
      "source": [
        "a = int(input('enter the temperature: '))\n",
        "F = (a*9/5)+32\n",
        "print ('Celsious to Farenheit: ',(F))\n"
      ],
      "metadata": {
        "colab": {
          "base_uri": "https://localhost:8080/"
        },
        "id": "LjaNbvLVWdLE",
        "outputId": "4732362f-ca8b-4669-cf6b-de3aa98708b7"
      },
      "execution_count": null,
      "outputs": [
        {
          "output_type": "stream",
          "name": "stdout",
          "text": [
            "enter the temperature: 10\n",
            "Celsious to Farenheit:  50.0\n"
          ]
        }
      ]
    },
    {
      "cell_type": "code",
      "source": [
        "'''10.Write a Python function to calculate the factorial of a number (a nonnegative\n",
        "integer). The function accepts the number as an argument. Sample input: 3\n",
        "Sample output: 6 '''"
      ],
      "metadata": {
        "id": "ISG-ZDQDVDVj"
      },
      "execution_count": null,
      "outputs": []
    },
    {
      "cell_type": "code",
      "source": [
        "def factorial(n):\n",
        "    res = 1\n",
        "    for i in range(2, n+1):\n",
        "        res *= i\n",
        "    return res\n",
        "num = 3\n",
        "print(\"Factorial of\", num, \"is\",\n",
        "factorial(num))\n"
      ],
      "metadata": {
        "colab": {
          "base_uri": "https://localhost:8080/"
        },
        "id": "kds1s1_GWddE",
        "outputId": "0f408c33-802d-4e79-83e4-8978670e9839"
      },
      "execution_count": null,
      "outputs": [
        {
          "output_type": "stream",
          "name": "stdout",
          "text": [
            "Factorial of 3 is 6\n"
          ]
        }
      ]
    },
    {
      "cell_type": "code",
      "source": [
        "'''11.Case Study: Grade Calculator\n",
        "In this case study, you have to create a program that calculates the final\n",
        "grade for a student based on their scores in different assessments. The\n",
        "program will take input from the user, perform calculations, and display the\n",
        "final grade along with additional information.\n",
        "Requirements:\n",
        "1. The program should prompt the user to enter the following information:\n",
        "• Student's name\n",
        "• Number of assessments (e.g., assignments, quizzes, exams)\n",
        "• Weight (percentage) of each assessment type\n",
        "2. For each assessment type, the program should ask the user to enter:\n",
        "• Number of assessments of that type\n",
        "• Score obtained for each assessment.\n",
        "3. The program should calculate the weighted average score for each\n",
        "assessment type.\n",
        "4. The program should then calculate the final grade using the weighted\n",
        "average scores and the weights provided by the user.\n",
        "5. The program should display the following information:\n",
        "• Student's name\n",
        "• Weighted average score for each assessment type\n",
        "• Final grade\n",
        "• Letter grade based on a grading scale (e.g., A, B, C, D, F)\n",
        "6. The program should have a function to determine the letter grade based\n",
        "on the final grade.'''"
      ],
      "metadata": {
        "id": "3tYUAMaJ4ZQg"
      },
      "execution_count": null,
      "outputs": []
    }
  ]
}