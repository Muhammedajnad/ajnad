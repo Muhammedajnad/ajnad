{
  "nbformat": 4,
  "nbformat_minor": 0,
  "metadata": {
    "colab": {
      "provenance": []
    },
    "kernelspec": {
      "name": "python3",
      "display_name": "Python 3"
    },
    "language_info": {
      "name": "python"
    }
  },
  "cells": [
    {
      "cell_type": "code",
      "execution_count": null,
      "metadata": {
        "colab": {
          "base_uri": "https://localhost:8080/"
        },
        "id": "iCF0fwKGmajc",
        "outputId": "edad7560-ae52-47d2-ff1a-03aee3082511"
      },
      "outputs": [
        {
          "output_type": "stream",
          "name": "stdout",
          "text": [
            "The area of the circle is 78.5\n"
          ]
        }
      ],
      "source": [
        "# Write a Python program to find the area of a circle with a given radius using the formula area = pi * r ** 2. Assume that pi is 3.14.\n",
        "radius = 5\n",
        "pi = 3.14\n",
        "area = pi * radius ** 2\n",
        "print(\"The area of the circle is\", area)"
      ]
    },
    {
      "cell_type": "code",
      "source": [
        "# Write a Python program to convert Celsius to Fahrenheit using the formula F = (C * 9/5) + 32\n",
        "celsius = 37\n",
        "fahrenheit = (celsius * 9/5) + 32\n",
        "print(\"The Fahrenheit temperature is\", fahrenheit)"
      ],
      "metadata": {
        "colab": {
          "base_uri": "https://localhost:8080/"
        },
        "id": "8EAAYrIanF4X",
        "outputId": "11af86c6-9692-4bab-acb5-3725f5bfa8f0"
      },
      "execution_count": null,
      "outputs": [
        {
          "output_type": "stream",
          "name": "stdout",
          "text": [
            "The Fahrenheit temperature is 98.6\n"
          ]
        }
      ]
    },
    {
      "cell_type": "code",
      "source": [
        "# Write a Python program to find the quotient and remainder of two numbers using the division operator / and the modulo operator %.\n",
        "dividend = 10\n",
        "divisor = 3\n",
        "quotient = dividend / divisor\n",
        "remainder = dividend % divisor\n",
        "print(\"The quotient is\", quotient)\n",
        "print(\"The remainder is\", remainder)"
      ],
      "metadata": {
        "colab": {
          "base_uri": "https://localhost:8080/"
        },
        "id": "DMsINF0AnL7G",
        "outputId": "528c8abf-1758-4721-9d20-5b2c2cae2036"
      },
      "execution_count": null,
      "outputs": [
        {
          "output_type": "stream",
          "name": "stdout",
          "text": [
            "The quotient is 3.3333333333333335\n",
            "The remainder is 1\n"
          ]
        }
      ]
    },
    {
      "cell_type": "code",
      "source": [
        "# Write a Python program to check whether a given number is even or odd using the modulo operator %.\n",
        "number = 10\n",
        "if number % 2 == 0:\n",
        "  print(\"The number is even.\")\n",
        "else:\n",
        "  print(\"The number is odd.\")"
      ],
      "metadata": {
        "colab": {
          "base_uri": "https://localhost:8080/"
        },
        "id": "EgRXfm0vnYnG",
        "outputId": "414fd806-8ec1-4100-858e-83f6c77a0c69"
      },
      "execution_count": null,
      "outputs": [
        {
          "output_type": "stream",
          "name": "stdout",
          "text": [
            "The number is even.\n"
          ]
        }
      ]
    },
    {
      "cell_type": "code",
      "source": [
        "# Write a Python program to calculate the average of three numbers entered by the user.\n",
        "num1 = 10\n",
        "num2 = 20\n",
        "num3 = 30\n",
        "average = (num1 + num2 + num3) / 3\n",
        "print(\"The average of the three numbers is\", average)"
      ],
      "metadata": {
        "colab": {
          "base_uri": "https://localhost:8080/"
        },
        "id": "BB4-1w9_ni62",
        "outputId": "8c3b665f-0d09-49ef-a735-f03e17e3c1a5"
      },
      "execution_count": null,
      "outputs": [
        {
          "output_type": "stream",
          "name": "stdout",
          "text": [
            "The average of the three numbers is 20.0\n"
          ]
        }
      ]
    },
    {
      "cell_type": "code",
      "source": [
        "# Write a Python program to swap two variables without using a temporary variable.\n",
        "x = 10\n",
        "y = 20\n",
        "x = x ^ y\n",
        "y = x ^ y\n",
        "x = x ^ y\n",
        "print(\"The value of x is\", x)\n",
        "print(\"The value of y is\", y)"
      ],
      "metadata": {
        "colab": {
          "base_uri": "https://localhost:8080/"
        },
        "id": "qhjcqdCLnoEG",
        "outputId": "ed2da330-12fa-42f2-dd76-b5e87a8ba033"
      },
      "execution_count": null,
      "outputs": [
        {
          "output_type": "stream",
          "name": "stdout",
          "text": [
            "The value of x is 20\n",
            "The value of y is 10\n"
          ]
        }
      ]
    },
    {
      "cell_type": "code",
      "source": [
        "# Write a Python program to calculate the area of a rectangle with given length and breadth.\n",
        "length = 10\n",
        "breadth = 5\n",
        "area = length * breadth\n",
        "print(\"The area of the rectangle is\", area)"
      ],
      "metadata": {
        "colab": {
          "base_uri": "https://localhost:8080/"
        },
        "id": "UWTDY9g3nulm",
        "outputId": "d4da2be0-6387-447a-ee81-b87c2fa60896"
      },
      "execution_count": null,
      "outputs": [
        {
          "output_type": "stream",
          "name": "stdout",
          "text": [
            "The area of the rectangle is 50\n"
          ]
        }
      ]
    },
    {
      "cell_type": "code",
      "source": [
        "# Write a Python program to calculate the sum of the digits of a three-digit number.\n",
        "number = 123\n",
        "sum_of_digits = number // 100 + (number % 100) // 10 + number % 10\n",
        "print(\"The sum of the digits of the number is\", sum_of_digits)"
      ],
      "metadata": {
        "colab": {
          "base_uri": "https://localhost:8080/"
        },
        "id": "pCXKi9cVnzyG",
        "outputId": "183f7026-40c8-451c-b67d-7b9a47ba369f"
      },
      "execution_count": null,
      "outputs": [
        {
          "output_type": "stream",
          "name": "stdout",
          "text": [
            "The sum of the digits of the number is 6\n"
          ]
        }
      ]
    },
    {
      "cell_type": "code",
      "source": [
        "# Write a Python program to check whether a given year is a leap year or not.\n",
        "year = 2020\n",
        "if year % 4 == 0:\n",
        "  if year % 100 == 0:\n",
        "    if year % 400 == 0:\n",
        "      print(\"The year is a leap year.\")\n",
        "    else:\n",
        "      print(\"The year is not a leap year.\")\n",
        "  else:\n",
        "    print(\"The year is a leap year.\")\n",
        "else:\n",
        "  print(\"The year is not a leap year.\")"
      ],
      "metadata": {
        "colab": {
          "base_uri": "https://localhost:8080/"
        },
        "id": "eFhoPlEqn74m",
        "outputId": "cf623c5c-e186-4bac-e0e2-70876dd80e3f"
      },
      "execution_count": null,
      "outputs": [
        {
          "output_type": "stream",
          "name": "stdout",
          "text": [
            "The year is a leap year.\n"
          ]
        }
      ]
    },
    {
      "cell_type": "code",
      "source": [
        "# Write a Python program to find the maximum and minimum of two numbers entered by the user.\n",
        "num1 = float(input(\"Enter the first number: \"))\n",
        "num2 = float(input(\"Enter the second number: \"))\n",
        "if num1 > num2:\n",
        "  max_num = num1\n",
        "else:\n",
        "  max_num = num2\n",
        "if num1 < num2:\n",
        "  min_num = num1\n",
        "else:\n",
        "  min_num = num2\n",
        "print(\"The maximum of the two numbers is\", max_num)\n",
        "print(\"The minimum of the two numbers is\", min_num)"
      ],
      "metadata": {
        "colab": {
          "base_uri": "https://localhost:8080/"
        },
        "id": "CN22cTAcn_8W",
        "outputId": "8aeb3544-043a-4359-d0eb-ae9921c470be"
      },
      "execution_count": null,
      "outputs": [
        {
          "output_type": "stream",
          "name": "stdout",
          "text": [
            "Enter the first number: 1\n",
            "Enter the second number: 2\n",
            "The maximum of the two numbers is 2.0\n",
            "The minimum of the two numbers is 1.0\n"
          ]
        }
      ]
    },
    {
      "cell_type": "code",
      "source": [],
      "metadata": {
        "id": "PehYE6hEoG72"
      },
      "execution_count": null,
      "outputs": []
    }
  ]
}